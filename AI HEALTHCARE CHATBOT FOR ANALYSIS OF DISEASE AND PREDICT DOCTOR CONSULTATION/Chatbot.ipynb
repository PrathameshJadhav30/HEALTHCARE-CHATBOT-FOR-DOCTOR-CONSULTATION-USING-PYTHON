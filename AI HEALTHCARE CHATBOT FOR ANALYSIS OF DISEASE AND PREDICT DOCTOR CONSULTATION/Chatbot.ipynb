{
 "cells": [
  {
   "cell_type": "code",
   "execution_count": 1,
   "metadata": {},
   "outputs": [],
   "source": [
    "#using the concept of decision-tree\n",
    "\n",
    "import pandas as pd\n",
    "import numpy as np\n",
    "import random\n",
    "from sklearn import preprocessing\n",
    "from sklearn.tree import DecisionTreeClassifier,_tree\n",
    "from sklearn.model_selection import train_test_split\n",
    "from sklearn import model_selection"
   ]
  },
  {
   "cell_type": "code",
   "execution_count": 2,
   "metadata": {},
   "outputs": [],
   "source": [
    "#for ignoring the warnings\n",
    "import warnings\n",
    "warnings.filterwarnings(\"ignore\", category=DeprecationWarning)\n",
    "import matplotlib.pyplot as plt"
   ]
  },
  {
   "cell_type": "code",
   "execution_count": 3,
   "metadata": {},
   "outputs": [],
   "source": [
    "# Importing the dataset\n",
    "training = pd.read_csv('D:\\AI HEALTHCARE CHATBOT\\AI HEALTHCARE CHATBOT FOR ANALYSIS OF DISEASE AND PREDICT DOCTOR CONSULTATION\\Training.csv')\n",
    "testing  = pd.read_csv('D:\\AI HEALTHCARE CHATBOT\\AI HEALTHCARE CHATBOT FOR ANALYSIS OF DISEASE AND PREDICT DOCTOR CONSULTATION\\Testing.csv')"
   ]
  },
  {
   "cell_type": "code",
   "execution_count": 4,
   "metadata": {},
   "outputs": [],
   "source": [
    "# saving the information of columns\n",
    "cols     = training.columns\n",
    "cols     = cols[:-1]"
   ]
  },
  {
   "cell_type": "code",
   "execution_count": 5,
   "metadata": {},
   "outputs": [],
   "source": [
    "# Slicing and Dicing the dataset to separate features from predictions\n",
    "x        = training[cols]\n",
    "y        = training['prognosis']\n",
    "y1       = y"
   ]
  },
  {
   "cell_type": "code",
   "execution_count": 6,
   "metadata": {},
   "outputs": [],
   "source": [
    "# dimensionality Reduction for removing redundancies\n",
    "reduced_data = training.groupby(training['prognosis']).max()"
   ]
  },
  {
   "cell_type": "code",
   "execution_count": 7,
   "metadata": {},
   "outputs": [],
   "source": [
    "# encoding/mapping String values to integer constants\n",
    "le = preprocessing.LabelEncoder()\n",
    "le.fit(y)\n",
    "y = le.transform(y)"
   ]
  },
  {
   "cell_type": "code",
   "execution_count": 8,
   "metadata": {},
   "outputs": [],
   "source": [
    "# Splitting-the-dataset-into-training-set-and-test set\n",
    "x_train, x_test, y_train, y_test = train_test_split(x, y, test_size=0.33, random_state=42)"
   ]
  },
  {
   "cell_type": "code",
   "execution_count": 9,
   "metadata": {},
   "outputs": [],
   "source": [
    "# print(x_test)\n",
    "testx    = testing[cols]\n",
    "testy    = testing['prognosis']\n",
    "testy    = le.transform(testy)"
   ]
  },
  {
   "cell_type": "code",
   "execution_count": 10,
   "metadata": {},
   "outputs": [],
   "source": [
    "#greetings\n",
    "GREETING_INPUTS = (\"hello\", \"hi\", \"greetings\", \"sup\", \"what's up\",\"hey\",)\n",
    "GREETING_RESPONSES = [\"hi\", \"hey\", \"*nods*\", \"hi there\", \"hello\", \"I am glad! You are talking to me\"]"
   ]
  },
  {
   "cell_type": "code",
   "execution_count": 11,
   "metadata": {},
   "outputs": [],
   "source": [
    "#implement the Decision-Tree-Classifier\n",
    "clf1  = DecisionTreeClassifier()\n",
    "clf = clf1.fit(x_train,y_train)"
   ]
  },
  {
   "cell_type": "code",
   "execution_count": 12,
   "metadata": {},
   "outputs": [],
   "source": [
    "# checking the Important features\n",
    "importances = clf.feature_importances_\n",
    "indices = np.argsort(importances)[::-1]\n",
    "features = cols"
   ]
  },
  {
   "cell_type": "code",
   "execution_count": 13,
   "metadata": {},
   "outputs": [
    {
     "name": "stdout",
     "output_type": "stream",
     "text": [
      "Healtho: My name is Healtho. I will answer your queries about your health related problem. If you want to exit, type Bye!\n",
      "Healtho: hello\n",
      "Healtho: Please reply Yes or No for the following symptoms\n",
      "Healtho: congestion ?\n",
      "Healtho: internal_itching ?\n",
      "Healtho: hip_joint_pain ?\n",
      "Healtho: polyuria ?\n",
      "Healtho: You may have Diabetes\n",
      "Healtho: symptoms present polyuria\n",
      "                  OTHER SYMPTOMS\n",
      "1                        fatigue\n",
      "2                    weight_loss\n",
      "3                   restlessness\n",
      "4                       lethargy\n",
      "5          irregular_sugar_level\n",
      "6   blurred_and_distorted_vision\n",
      "7                        obesity\n",
      "8               excessive_hunger\n",
      "9             increased_appetite\n",
      "10                      polyuria\n"
     ]
    },
    {
     "ename": "KeyError",
     "evalue": "'Diabetes'",
     "output_type": "error",
     "traceback": [
      "\u001b[1;31m---------------------------------------------------------------------------\u001b[0m",
      "\u001b[1;31mKeyError\u001b[0m                                  Traceback (most recent call last)",
      "Cell \u001b[1;32mIn[13], line 100\u001b[0m\n\u001b[0;32m     98\u001b[0m     \u001b[38;5;28mprint\u001b[39m(\u001b[38;5;124m\"\u001b[39m\u001b[38;5;124mHealtho: \u001b[39m\u001b[38;5;124m\"\u001b[39m\u001b[38;5;241m+\u001b[39mgreeting(user_response))\n\u001b[0;32m     99\u001b[0m     \u001b[38;5;28mprint\u001b[39m(\u001b[38;5;124m\"\u001b[39m\u001b[38;5;124mHealtho: Please reply Yes or No for the following symptoms\u001b[39m\u001b[38;5;124m\"\u001b[39m)\n\u001b[1;32m--> 100\u001b[0m     \u001b[43mtree_to_code\u001b[49m\u001b[43m(\u001b[49m\u001b[43mclf\u001b[49m\u001b[43m,\u001b[49m\u001b[43mcols\u001b[49m\u001b[43m)\u001b[49m\n\u001b[0;32m    101\u001b[0m \u001b[38;5;28;01melse\u001b[39;00m:\n\u001b[0;32m    102\u001b[0m     \u001b[38;5;28mprint\u001b[39m(\u001b[38;5;124m\"\u001b[39m\u001b[38;5;124mHealtho: I am sorry! I don\u001b[39m\u001b[38;5;124m'\u001b[39m\u001b[38;5;124mt understand you\u001b[39m\u001b[38;5;124m\"\u001b[39m)\n",
      "Cell \u001b[1;32mIn[13], line 82\u001b[0m, in \u001b[0;36mtree_to_code\u001b[1;34m(tree, feature_names)\u001b[0m\n\u001b[0;32m     78\u001b[0m             plt\u001b[38;5;241m.\u001b[39mxlabel(\u001b[38;5;124m'\u001b[39m\u001b[38;5;124mConsult a doctor\u001b[39m\u001b[38;5;124m'\u001b[39m)\n\u001b[0;32m     79\u001b[0m             plt\u001b[38;5;241m.\u001b[39mshow()\n\u001b[1;32m---> 82\u001b[0m \u001b[43mrecurse\u001b[49m\u001b[43m(\u001b[49m\u001b[38;5;241;43m0\u001b[39;49m\u001b[43m,\u001b[49m\u001b[43m \u001b[49m\u001b[38;5;241;43m1\u001b[39;49m\u001b[43m)\u001b[49m\n",
      "Cell \u001b[1;32mIn[13], line 37\u001b[0m, in \u001b[0;36mtree_to_code.<locals>.recurse\u001b[1;34m(node, depth)\u001b[0m\n\u001b[0;32m     35\u001b[0m     val \u001b[38;5;241m=\u001b[39m \u001b[38;5;241m0\u001b[39m\n\u001b[0;32m     36\u001b[0m \u001b[38;5;28;01mif\u001b[39;00m  val \u001b[38;5;241m<\u001b[39m\u001b[38;5;241m=\u001b[39m threshold:\n\u001b[1;32m---> 37\u001b[0m     \u001b[43mrecurse\u001b[49m\u001b[43m(\u001b[49m\u001b[43mtree_\u001b[49m\u001b[38;5;241;43m.\u001b[39;49m\u001b[43mchildren_left\u001b[49m\u001b[43m[\u001b[49m\u001b[43mnode\u001b[49m\u001b[43m]\u001b[49m\u001b[43m,\u001b[49m\u001b[43m \u001b[49m\u001b[43mdepth\u001b[49m\u001b[43m \u001b[49m\u001b[38;5;241;43m+\u001b[39;49m\u001b[43m \u001b[49m\u001b[38;5;241;43m1\u001b[39;49m\u001b[43m)\u001b[49m\n\u001b[0;32m     38\u001b[0m \u001b[38;5;28;01melse\u001b[39;00m:\n\u001b[0;32m     39\u001b[0m     symptoms_present\u001b[38;5;241m.\u001b[39mappend(name)\n",
      "Cell \u001b[1;32mIn[13], line 37\u001b[0m, in \u001b[0;36mtree_to_code.<locals>.recurse\u001b[1;34m(node, depth)\u001b[0m\n\u001b[0;32m     35\u001b[0m     val \u001b[38;5;241m=\u001b[39m \u001b[38;5;241m0\u001b[39m\n\u001b[0;32m     36\u001b[0m \u001b[38;5;28;01mif\u001b[39;00m  val \u001b[38;5;241m<\u001b[39m\u001b[38;5;241m=\u001b[39m threshold:\n\u001b[1;32m---> 37\u001b[0m     \u001b[43mrecurse\u001b[49m\u001b[43m(\u001b[49m\u001b[43mtree_\u001b[49m\u001b[38;5;241;43m.\u001b[39;49m\u001b[43mchildren_left\u001b[49m\u001b[43m[\u001b[49m\u001b[43mnode\u001b[49m\u001b[43m]\u001b[49m\u001b[43m,\u001b[49m\u001b[43m \u001b[49m\u001b[43mdepth\u001b[49m\u001b[43m \u001b[49m\u001b[38;5;241;43m+\u001b[39;49m\u001b[43m \u001b[49m\u001b[38;5;241;43m1\u001b[39;49m\u001b[43m)\u001b[49m\n\u001b[0;32m     38\u001b[0m \u001b[38;5;28;01melse\u001b[39;00m:\n\u001b[0;32m     39\u001b[0m     symptoms_present\u001b[38;5;241m.\u001b[39mappend(name)\n",
      "Cell \u001b[1;32mIn[13], line 37\u001b[0m, in \u001b[0;36mtree_to_code.<locals>.recurse\u001b[1;34m(node, depth)\u001b[0m\n\u001b[0;32m     35\u001b[0m     val \u001b[38;5;241m=\u001b[39m \u001b[38;5;241m0\u001b[39m\n\u001b[0;32m     36\u001b[0m \u001b[38;5;28;01mif\u001b[39;00m  val \u001b[38;5;241m<\u001b[39m\u001b[38;5;241m=\u001b[39m threshold:\n\u001b[1;32m---> 37\u001b[0m     \u001b[43mrecurse\u001b[49m\u001b[43m(\u001b[49m\u001b[43mtree_\u001b[49m\u001b[38;5;241;43m.\u001b[39;49m\u001b[43mchildren_left\u001b[49m\u001b[43m[\u001b[49m\u001b[43mnode\u001b[49m\u001b[43m]\u001b[49m\u001b[43m,\u001b[49m\u001b[43m \u001b[49m\u001b[43mdepth\u001b[49m\u001b[43m \u001b[49m\u001b[38;5;241;43m+\u001b[39;49m\u001b[43m \u001b[49m\u001b[38;5;241;43m1\u001b[39;49m\u001b[43m)\u001b[49m\n\u001b[0;32m     38\u001b[0m \u001b[38;5;28;01melse\u001b[39;00m:\n\u001b[0;32m     39\u001b[0m     symptoms_present\u001b[38;5;241m.\u001b[39mappend(name)\n",
      "Cell \u001b[1;32mIn[13], line 40\u001b[0m, in \u001b[0;36mtree_to_code.<locals>.recurse\u001b[1;34m(node, depth)\u001b[0m\n\u001b[0;32m     38\u001b[0m     \u001b[38;5;28;01melse\u001b[39;00m:\n\u001b[0;32m     39\u001b[0m         symptoms_present\u001b[38;5;241m.\u001b[39mappend(name)\n\u001b[1;32m---> 40\u001b[0m         \u001b[43mrecurse\u001b[49m\u001b[43m(\u001b[49m\u001b[43mtree_\u001b[49m\u001b[38;5;241;43m.\u001b[39;49m\u001b[43mchildren_right\u001b[49m\u001b[43m[\u001b[49m\u001b[43mnode\u001b[49m\u001b[43m]\u001b[49m\u001b[43m,\u001b[49m\u001b[43m \u001b[49m\u001b[43mdepth\u001b[49m\u001b[43m \u001b[49m\u001b[38;5;241;43m+\u001b[39;49m\u001b[43m \u001b[49m\u001b[38;5;241;43m1\u001b[39;49m\u001b[43m)\u001b[49m\n\u001b[0;32m     41\u001b[0m \u001b[38;5;28;01melse\u001b[39;00m:\n\u001b[0;32m     43\u001b[0m     present_disease \u001b[38;5;241m=\u001b[39m print_disease(tree_\u001b[38;5;241m.\u001b[39mvalue[node])\n",
      "Cell \u001b[1;32mIn[13], line 63\u001b[0m, in \u001b[0;36mtree_to_code.<locals>.recurse\u001b[1;34m(node, depth)\u001b[0m\n\u001b[0;32m     61\u001b[0m \u001b[38;5;28;01mfor\u001b[39;00m row \u001b[38;5;129;01min\u001b[39;00m read:\n\u001b[0;32m     62\u001b[0m     consult[row[\u001b[38;5;241m0\u001b[39m]]\u001b[38;5;241m=\u001b[39m\u001b[38;5;28mint\u001b[39m(row[\u001b[38;5;241m1\u001b[39m]) \u001b[38;5;66;03m#converting csv to dictionary\u001b[39;00m\n\u001b[1;32m---> 63\u001b[0m \u001b[38;5;28;01mif\u001b[39;00m(\u001b[43mconsult\u001b[49m\u001b[43m[\u001b[49m\u001b[43mdiss\u001b[49m\u001b[43m]\u001b[49m\u001b[38;5;241m>\u001b[39m\u001b[38;5;241m50\u001b[39m):\n\u001b[0;32m     64\u001b[0m         \u001b[38;5;28mprint\u001b[39m(\u001b[38;5;124m\"\u001b[39m\u001b[38;5;124mHealtho: You should consult a doctor as soon as possible\u001b[39m\u001b[38;5;124m\"\u001b[39m)\n\u001b[0;32m     65\u001b[0m         data1\u001b[38;5;241m=\u001b[39m[consult[diss],\u001b[38;5;241m0\u001b[39m]\n",
      "\u001b[1;31mKeyError\u001b[0m: 'Diabetes'"
     ]
    }
   ],
   "source": [
    "def greeting(sentence):\n",
    "    \"\"\"If user's input is a greeting, return a greeting response\"\"\"\n",
    "    for word in sentence.split():\n",
    "        if word.lower() in GREETING_INPUTS:\n",
    "            return random.choice(GREETING_RESPONSES)\n",
    "def print_disease(node):\n",
    "    node = node[0]\n",
    "    val  = node.nonzero()\n",
    "    disease = le.inverse_transform(val[0])\n",
    "    return disease\n",
    "\n",
    "def tree_to_code(tree, feature_names):\n",
    "    tree_ = tree.tree_\n",
    "\n",
    "    feature_name = [\n",
    "        feature_names[i] if i != _tree.TREE_UNDEFINED else \"undefined!\"\n",
    "        for i in tree_.feature\n",
    "    ]\n",
    "    symptoms_present = []\n",
    "    def recurse(node, depth):\n",
    "        indent = \"  \" * depth\n",
    "        if tree_.feature[node] != _tree.TREE_UNDEFINED:\n",
    "            name = feature_name[node]  #storing disease name from the file\n",
    "            threshold = tree_.threshold[node]\n",
    "#             print(threshold)\n",
    "            print(\"Healtho: \"+ name + \" ?\")\n",
    "            ans = input()\n",
    "            ans = ans.lower()\n",
    "            if ans == 'yes':\n",
    "                val = 1\n",
    "            elif ans == 'no':\n",
    "                val = 0\n",
    "            else:\n",
    "                print(\"Healtho: I am sorry! I don't understand you\")\n",
    "                val = 0\n",
    "            if  val <= threshold:\n",
    "                recurse(tree_.children_left[node], depth + 1)\n",
    "            else:\n",
    "                symptoms_present.append(name)\n",
    "                recurse(tree_.children_right[node], depth + 1)\n",
    "        else:\n",
    "\n",
    "            present_disease = print_disease(tree_.value[node])\n",
    "            for di in present_disease:\n",
    "                diss=di\n",
    "            for i in symptoms_present:\n",
    "                dis=i\n",
    "            print( \"Healtho: You may have \" +diss)\n",
    "            red_cols = reduced_data.columns\n",
    "            symptoms_given = red_cols[reduced_data.loc[present_disease].values[0].nonzero()]\n",
    "            print(\"Healtho: symptoms present \" +dis)\n",
    "            indexx=np.arange(1,len(symptoms_given)+1)\n",
    "            data=pd.DataFrame(list(symptoms_given),index=[indexx],columns=['OTHER SYMPTOMS'])\n",
    "            print(data)\n",
    "            import csv\n",
    "            f=open('D:\\AI HEALTHCARE CHATBOT\\AI HEALTHCARE CHATBOT FOR ANALYSIS OF DISEASE AND PREDICT DOCTOR CONSULTATION\\doc_consult.csv','r')\n",
    "            read=csv.reader(f)\n",
    "            consult={}\n",
    "            consult_doc=[' YES','NO']\n",
    "\n",
    "            for row in read:\n",
    "                consult[row[0]]=int(row[1]) #converting csv to dictionary\n",
    "            if(consult[diss]>50):\n",
    "                    print(\"Healtho: You should consult a doctor as soon as possible\")\n",
    "                    data1=[consult[diss],0]\n",
    "                    plt.ylim([0,100])\n",
    "                    plt.bar(consult_doc,data1,align='center',color='red',width=0.15)\n",
    "                    plt.ylabel('Risk')\n",
    "                    plt.xlabel('Consult a doctor')\n",
    "                    plt.show()\n",
    "\n",
    "            else:\n",
    "                print(\"Healtho: You may consult a doctor\")\n",
    "                data1=[0,consult[diss]]\n",
    "                plt.ylim([0,100])\n",
    "                plt.bar(consult_doc,data1,align='center',color='red',width=0.15)\n",
    "                plt.ylabel('Risk')\n",
    "                plt.xlabel('Consult a doctor')\n",
    "                plt.show()\n",
    "\n",
    "\n",
    "    recurse(0, 1)\n",
    "\n",
    "flag=True\n",
    "print(\"Healtho: My name is Healtho. I will answer your queries about your health related problem. If you want to exit, type Bye!\")\n",
    "while(flag==True):\n",
    "\n",
    "    user_response=input()\n",
    "    user_response=user_response.lower()\n",
    "\n",
    "    if(user_response!='bye'):\n",
    "        if(user_response=='thanks' or user_response=='thank you' ):\n",
    "            flag=False\n",
    "            print(\"Healtho: You are welcome..\")\n",
    "\n",
    "        else:\n",
    "            if(greeting(user_response)!=None):\n",
    "                print(\"Healtho: \"+greeting(user_response))\n",
    "                print(\"Healtho: Please reply Yes or No for the following symptoms\")\n",
    "                tree_to_code(clf,cols)\n",
    "            else:\n",
    "                print(\"Healtho: I am sorry! I don't understand you\")\n",
    "                flag=True\n",
    "\n",
    "    else:\n",
    "        flag=False\n",
    "        print(\"Healtho: Bye! take care..\")"
   ]
  }
 ],
 "metadata": {
  "kernelspec": {
   "display_name": "Python 3",
   "language": "python",
   "name": "python3"
  },
  "language_info": {
   "codemirror_mode": {
    "name": "ipython",
    "version": 3
   },
   "file_extension": ".py",
   "mimetype": "text/x-python",
   "name": "python",
   "nbconvert_exporter": "python",
   "pygments_lexer": "ipython3",
   "version": "3.11.9"
  }
 },
 "nbformat": 4,
 "nbformat_minor": 2
}
